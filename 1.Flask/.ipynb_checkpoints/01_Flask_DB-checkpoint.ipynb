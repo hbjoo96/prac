{
 "cells": [
  {
   "cell_type": "markdown",
   "id": "362bee62-b7c0-4a78-a592-362ea4362fe7",
   "metadata": {},
   "source": [
    "# 학습목표\n",
    "- Flask 개요\n",
    "- Flask의 사용법 익히기\n",
    "- Flask로 웹서버 구축\n",
    "  - 웹 서버 구축\n",
    "  - HTML 문서 송수신\n",
    "  - 데이터 송수신 (라우팅, get, post)\n",
    "  - 이미지가 포함된 문서 송수신\n",
    "- 파이썬으로 DB연동 : cx_Oracle 라이브러리 활용"
   ]
  },
  {
   "cell_type": "markdown",
   "id": "9f3d256a-d841-445b-b594-2b68bf905c33",
   "metadata": {},
   "source": [
    "# Flask 개요\n",
    "- 파이썬으로 구현된 웹 프레임워크\n",
    "  - 웹 서버를 구동\n",
    "  - 웹 페이지를 렌더링\n",
    " \n",
    "- Django : 파이썬으로 구현된 웹 프레임워크 -> 크기가 크고 어렵다 -> 쉽게 만든 버전 -> Flask, Bottle\n",
    "- Flask (동기방식 : 프로세스를 하나씩 실행) -> 비동기 방식 -> Fast API"
   ]
  },
  {
   "cell_type": "markdown",
   "id": "18c1d0ff-d17b-48fb-95e7-87b302787b1b",
   "metadata": {},
   "source": [
    "# 다른 프레임워크\n",
    "- Spring : java로 만들어진 웹 프레임워크\n",
    "- Node.js : JS로 만들어진 웹 프레임워크\n",
    "- PHP : C로 만들어진 웹 프레임워크\n",
    "- Android : java로 만들어진 앱 프레임워크\n",
    "- Kotlin : java/JS/C# 등이 섞여있는 앱 프레임워크 (네이티브 앱 프레임워크)\n",
    "- Flutter : 하이브리드 앱 프레임워크\n",
    "\n",
    "- 기타 언어\n",
    "  - C, C++, C#\n",
    "  - Zig, Go, Rust"
   ]
  },
  {
   "cell_type": "markdown",
   "id": "59a29740-c77e-437f-8304-baa77bed2a40",
   "metadata": {},
   "source": [
    "- Flask 설치"
   ]
  },
  {
   "cell_type": "code",
   "execution_count": 4,
   "id": "f7d18185-4d00-4570-8e09-af5f7460c119",
   "metadata": {},
   "outputs": [
    {
     "name": "stdout",
     "output_type": "stream",
     "text": [
      "Requirement already satisfied: flask in c:\\users\\user\\anaconda3\\lib\\site-packages (2.2.5)\n",
      "Requirement already satisfied: Werkzeug>=2.2.2 in c:\\users\\user\\anaconda3\\lib\\site-packages (from flask) (2.2.3)\n",
      "Requirement already satisfied: Jinja2>=3.0 in c:\\users\\user\\anaconda3\\lib\\site-packages (from flask) (3.1.3)\n",
      "Requirement already satisfied: itsdangerous>=2.0 in c:\\users\\user\\anaconda3\\lib\\site-packages (from flask) (2.0.1)\n",
      "Requirement already satisfied: click>=8.0 in c:\\users\\user\\appdata\\roaming\\python\\python311\\site-packages (from flask) (8.1.7)\n",
      "Requirement already satisfied: colorama in c:\\users\\user\\anaconda3\\lib\\site-packages (from click>=8.0->flask) (0.4.6)\n",
      "Requirement already satisfied: MarkupSafe>=2.0 in c:\\users\\user\\anaconda3\\lib\\site-packages (from Jinja2>=3.0->flask) (2.1.3)\n"
     ]
    }
   ],
   "source": [
    "!pip install flask"
   ]
  },
  {
   "cell_type": "markdown",
   "id": "8d9b8d1b-1cba-4852-8f6e-71a249b53edb",
   "metadata": {},
   "source": [
    "- 웹 서버 구동하기\n",
    "  - Flask(\\_\\_name\\_\\_) : 초기화 명령\n",
    "  - route() : 라우팅 (접속 경로 설정)\n",
    "    - 클라이언트가 접속할 주소를 설정\n",
    "    - 클라이언트가 접속할 때 실행할 내용 (클라이언트로 전송되는 내용)\n",
    "  - run() : 서버 구동\n",
    "    - ip, port 설정"
   ]
  },
  {
   "cell_type": "code",
   "execution_count": 6,
   "id": "4d994b7d-d29e-421d-88ed-da6cfc2d69ea",
   "metadata": {},
   "outputs": [
    {
     "name": "stdout",
     "output_type": "stream",
     "text": [
      " * Serving Flask app '__main__'\n",
      " * Debug mode: off\n"
     ]
    },
    {
     "name": "stderr",
     "output_type": "stream",
     "text": [
      "WARNING: This is a development server. Do not use it in a production deployment. Use a production WSGI server instead.\n",
      " * Running on http://192.168.21.83:9000\n",
      "Press CTRL+C to quit\n"
     ]
    }
   ],
   "source": [
    "from flask import Flask\n",
    "\n",
    "# 초기화\n",
    "app = Flask(__name__)\n",
    "\n",
    "# 라우팅 설정\n",
    "# 아이피와 포트 (도메인)으로 접속하는 경우\n",
    "@app.route(\"/\")\n",
    "def home() :\n",
    "    return \"안녕하세요 임꺽정입니다\"\n",
    "\n",
    "# URL/page1    \n",
    "@app.route(\"/page1\")\n",
    "def page1() :\n",
    "    return \"페이지 1입니다.\"\n",
    "\n",
    "# 서버 구동 (가장 먼저 싫행)\n",
    "if __name__ == \"__main__\" :\n",
    "    app.run(host=\"192.168.21.83\", port=9000)"
   ]
  },
  {
   "cell_type": "markdown",
   "id": "d214e5d5-c040-47d9-ad80-491da48040c2",
   "metadata": {},
   "source": [
    "- 라우팅 주소(URL)에 값을 실어서 보내기\n",
    "  - URL/<변수명1><변수명2>"
   ]
  },
  {
   "cell_type": "code",
   "execution_count": 8,
   "id": "5406752a-f850-4ff3-ad53-474b85d76313",
   "metadata": {},
   "outputs": [
    {
     "name": "stdout",
     "output_type": "stream",
     "text": [
      " * Serving Flask app '__main__'\n",
      " * Debug mode: off\n"
     ]
    },
    {
     "name": "stderr",
     "output_type": "stream",
     "text": [
      "WARNING: This is a development server. Do not use it in a production deployment. Use a production WSGI server instead.\n",
      " * Running on http://192.168.21.83:9000\n",
      "Press CTRL+C to quit\n"
     ]
    }
   ],
   "source": [
    "from flask import Flask \n",
    "\n",
    "app = Flask(__name__)\n",
    "\n",
    "@app.route(\"/\")\n",
    "def home() :\n",
    "    return \"안녕하세요 홍길동입니다 ^ㅇ^\"\n",
    "\n",
    "@app.route(\"/page1\")\n",
    "def page1() :\n",
    "    return \"페이지 1입니다.\"\n",
    "\n",
    "@app.route(\"/login/<id> <pw>\")\n",
    "# 전송된 값은 함수에 받아주어야 한다\n",
    "def login(id, pw) :\n",
    "    return f\"아이디 : {id}, 암호 : {pw}\"\n",
    "\n",
    "if __name__ == \"__main__\" :\n",
    "    app.run(host=\"192.168.21.83\", port=9000)"
   ]
  },
  {
   "cell_type": "markdown",
   "id": "071ad3cc-26c6-4145-af95-b889e7f88b45",
   "metadata": {},
   "source": [
    "- html 문서 전송\n",
    "  - render_template(파일명) : html 문서를 렌더링해서 클라이언트로 전송\n",
    "  - html 문서는 templates 폴더에 저장해야 한다"
   ]
  },
  {
   "cell_type": "code",
   "execution_count": 10,
   "id": "32315a9d-df28-42f7-a9dd-3d90a614b66f",
   "metadata": {},
   "outputs": [],
   "source": [
    "import os\n",
    "# templates 폴더 생성\n",
    "dir_name = \"./templates\"\n",
    "\n",
    "# 해당 폴더가 없다면 폴더를 생성\n",
    "if not os.path.exists(dir_name) :\n",
    "    os.mkdir(dir_name)"
   ]
  },
  {
   "cell_type": "markdown",
   "id": "e8cd03ef-5c95-4151-adc9-e8255a4f3f5c",
   "metadata": {},
   "source": [
    "- %%writefile 파일명 : 명령 다음 줄부터의 내용을 해당 파일에 저장\n",
    "  - 주의점 : 해당 명령은 반드시 첫 번째 줄에 위치해야 한다."
   ]
  },
  {
   "cell_type": "code",
   "execution_count": 12,
   "id": "3aadfb65-4693-48f9-94e3-96838907e005",
   "metadata": {},
   "outputs": [
    {
     "name": "stdout",
     "output_type": "stream",
     "text": [
      "Overwriting ./templates/index.html\n"
     ]
    }
   ],
   "source": [
    "%%writefile ./templates/index.html\n",
    "<html>\n",
    "<body>\n",
    "<h1><font color=\"red\">홍길동</font>님 환영합니다.</h1>\n",
    "</body>\n",
    "</html>"
   ]
  },
  {
   "cell_type": "code",
   "execution_count": 14,
   "id": "ff04c3bd-c4f9-4936-bd74-02c742eac090",
   "metadata": {},
   "outputs": [
    {
     "name": "stdout",
     "output_type": "stream",
     "text": [
      " * Serving Flask app '__main__'\n",
      " * Debug mode: off\n"
     ]
    },
    {
     "name": "stderr",
     "output_type": "stream",
     "text": [
      "WARNING: This is a development server. Do not use it in a production deployment. Use a production WSGI server instead.\n",
      " * Running on http://192.168.21.83:9000\n",
      "Press CTRL+C to quit\n"
     ]
    }
   ],
   "source": [
    "from flask import Flask, render_template\n",
    "\n",
    "app = Flask(__name__)\n",
    "\n",
    "@app.route(\"/\")\n",
    "def home() :\n",
    "    return render_template(\"index.html\")\n",
    "\n",
    "if __name__ == \"__main__\" :\n",
    "    app.run(host=\"192.168.21.83\", port=9000)"
   ]
  },
  {
   "cell_type": "markdown",
   "id": "8bf5c3e3-2dc8-4c8b-b80c-230201fef7d5",
   "metadata": {},
   "source": [
    "- get/post 방식으로 값을 전송"
   ]
  },
  {
   "cell_type": "code",
   "execution_count": 16,
   "id": "fe5b7b8c-b4a9-4006-afe6-e7b68b046a30",
   "metadata": {},
   "outputs": [
    {
     "name": "stdout",
     "output_type": "stream",
     "text": [
      "Overwriting ./templates/login.html\n"
     ]
    }
   ],
   "source": [
    "%%writefile ./templates/login.html\n",
    "<html>\n",
    "<body>\n",
    "<form method=\"get\" action=\"/login_ok\">\n",
    "<table width=400>\n",
    "<tr><td align=\"center\" width=100>아이디</td>\n",
    "<td><input type=\"text\" name=\"id\" value=\"\"></td></tr>\n",
    "<tr><td align=\"center\">패스워드</td>\n",
    "<td><input type=\"password\" name=\"pw\" value=\"\"></td></tr>\n",
    "<tr><td colspan=2 align=\"center\"><input type=\"submit\" value=\"로그인\"></td></tr>\n",
    "</table>\n",
    "</body>\n",
    "</html>"
   ]
  },
  {
   "cell_type": "markdown",
   "id": "39c215d6-1427-4c88-940c-5ef7ec954b55",
   "metadata": {},
   "source": [
    "- args : 실행명령 뒤에 따라오는 파라미터를 읽음\n",
    "- get 방식으로 전송된 데이터는 파이썬에서 딕셔너리로 인식\n",
    "  - 변수 -> 키, 값 -> value로 인식"
   ]
  },
  {
   "cell_type": "code",
   "execution_count": 18,
   "id": "b5474373-5c79-4820-b809-f4309ee75f7c",
   "metadata": {},
   "outputs": [
    {
     "name": "stdout",
     "output_type": "stream",
     "text": [
      "test\n",
      "test\n",
      "None\n"
     ]
    }
   ],
   "source": [
    "dic1 = {\"id\" : \"test\", \"pw\" : \"1234\"}\n",
    "\n",
    "# get으로 키를 활용하면 입력한 키가 없어도 오류가 나지 않고 None값이 출력된다.\n",
    "\n",
    "print(dic1[\"id\"])\n",
    "# print(dic1[\"name\"])\n",
    "print(dic1.get(\"id\"))\n",
    "print(dic1.get(\"name\"))"
   ]
  },
  {
   "cell_type": "code",
   "execution_count": 26,
   "id": "2fb3df42-875f-454f-b890-7f6a726827d1",
   "metadata": {},
   "outputs": [
    {
     "name": "stdout",
     "output_type": "stream",
     "text": [
      " * Serving Flask app '__main__'\n",
      " * Debug mode: off\n"
     ]
    },
    {
     "name": "stderr",
     "output_type": "stream",
     "text": [
      "WARNING: This is a development server. Do not use it in a production deployment. Use a production WSGI server instead.\n",
      " * Running on http://192.168.21.83:9000\n",
      "Press CTRL+C to quit\n"
     ]
    }
   ],
   "source": [
    "from flask import Flask, render_template, request\n",
    "\n",
    "app = Flask(__name__)\n",
    "\n",
    "@app.route(\"/\")\n",
    "def home() :\n",
    "    return render_template(\"index.html\")\n",
    "\n",
    "@app.route(\"/login\")\n",
    "def login() :\n",
    "    return render_template(\"login.html\")\n",
    "\n",
    "# methods : GET 또는 POST를 설정\n",
    "@app.route(\"/login_ok\", methods=[\"GET\"])\n",
    "def login_ok() :\n",
    "    id_val = request.args.get(\"id\")\n",
    "    pw_val = request.args.get(\"pw\")\n",
    "    return f\"id : {id_val}, pw : {pw_val}\"\n",
    "\n",
    "if __name__ == \"__main__\" :\n",
    "    app.run(host=\"192.168.21.83\", port=9000)"
   ]
  },
  {
   "cell_type": "code",
   "execution_count": 28,
   "id": "538e1637-1f54-4757-a4ad-db012fdcc4a3",
   "metadata": {},
   "outputs": [
    {
     "name": "stdout",
     "output_type": "stream",
     "text": [
      "Overwriting ./templates/login2.html\n"
     ]
    }
   ],
   "source": [
    "%%writefile ./templates/login2.html\n",
    "<html>\n",
    "<body>\n",
    "<form method=\"post\" action=\"/login_ok\">\n",
    "<table width=400>\n",
    "<tr><td align=\"center\" width=100>아이디</td>\n",
    "<td><input type=\"text\" name=\"id\" value=\"\"></td></tr>\n",
    "<tr><td align=\"center\">패스워드</td>\n",
    "<td><input type=\"password\" name=\"pw\" value=\"\"></td></tr>\n",
    "<tr><td colspan=2 align=\"center\"><input type=\"submit\" value=\"로그인\"></td></tr>\n",
    "</table>\n",
    "</body>\n",
    "</html>"
   ]
  },
  {
   "cell_type": "code",
   "execution_count": 30,
   "id": "ff2638e7-e8d0-4adb-ac20-19fe38376e8d",
   "metadata": {},
   "outputs": [
    {
     "name": "stdout",
     "output_type": "stream",
     "text": [
      " * Serving Flask app '__main__'\n",
      " * Debug mode: off\n"
     ]
    },
    {
     "name": "stderr",
     "output_type": "stream",
     "text": [
      "WARNING: This is a development server. Do not use it in a production deployment. Use a production WSGI server instead.\n",
      " * Running on http://192.168.21.83:9000\n",
      "Press CTRL+C to quit\n"
     ]
    }
   ],
   "source": [
    "from flask import Flask, render_template, request\n",
    "\n",
    "app = Flask(__name__)\n",
    "\n",
    "@app.route(\"/\")\n",
    "def home() :\n",
    "    return render_template(\"index.html\")\n",
    "\n",
    "@app.route(\"/login\")\n",
    "def login() :\n",
    "    return render_template(\"login2.html\")\n",
    "\n",
    "# methods : GET 또는 POST를 설정\n",
    "@app.route(\"/login_ok\", methods=[\"POST\"])\n",
    "def login_ok() :\n",
    "    id_val = request.form[\"id\"]\n",
    "    pw_val = request.form[\"pw\"]\n",
    "    return f\"id : {id_val}, pw : {pw_val}\"\n",
    "\n",
    "if __name__ == \"__main__\" :\n",
    "    app.run(host=\"192.168.21.83\", port=9000)"
   ]
  },
  {
   "cell_type": "markdown",
   "id": "3d9fc7a0-62eb-425a-b349-41c19f9ccfd5",
   "metadata": {},
   "source": [
    "- 이미지가 포함된 HTML 문서 전송\n",
    "  - 리소스 (이미지, 소리, 영상 등)는 static 폴더에 저장"
   ]
  },
  {
   "cell_type": "code",
   "execution_count": 32,
   "id": "7ab28617-ab29-48cb-9013-7481bbce159e",
   "metadata": {},
   "outputs": [],
   "source": [
    "import os\n",
    "dir_name = \"./static\"\n",
    "\n",
    "# 해당 폴더가 없다면 폴더를 생성\n",
    "if not os.path.exists(dir_name) :\n",
    "    os.mkdir(dir_name)"
   ]
  },
  {
   "cell_type": "code",
   "execution_count": 34,
   "id": "61b7a0cd-798d-46e9-96bc-cdd1083f0593",
   "metadata": {},
   "outputs": [
    {
     "name": "stdout",
     "output_type": "stream",
     "text": [
      "Overwriting ./templates/main.html\n"
     ]
    }
   ],
   "source": [
    "%%writefile ./templates/main.html\n",
    "<html>\n",
    "<body>\n",
    "<img src=\"./static/0000500553_001_20240708151621049.jpg\">\n",
    "</body>\n",
    "</html>"
   ]
  },
  {
   "cell_type": "markdown",
   "id": "0113dbf6-aea8-442c-86b1-967361779253",
   "metadata": {},
   "source": [
    "- Jinja Template\n",
    "  - HTML 문서에서 파이썬 코드를 작성할 수 있게 해주는 탬플릿\n",
    "  - Jinja Template2 출시\n",
    "  - {변수, 객체 선언}{{일반 코드}}을 이용해서 코드를 작성\n",
    "  - JSP : HTML 문서에 Java 코드를 작성할 수 있게 해줌\n",
    "  - PHP : HTML 문서에 C 코드를 작성할 수 있게 해줌"
   ]
  },
  {
   "cell_type": "code",
   "execution_count": 36,
   "id": "b6e6763d-3997-4f9c-9e5f-044e4d5e2cf7",
   "metadata": {},
   "outputs": [
    {
     "name": "stdout",
     "output_type": "stream",
     "text": [
      " * Serving Flask app '__main__'\n",
      " * Debug mode: off\n"
     ]
    },
    {
     "name": "stderr",
     "output_type": "stream",
     "text": [
      "WARNING: This is a development server. Do not use it in a production deployment. Use a production WSGI server instead.\n",
      " * Running on http://192.168.21.83:9000\n",
      "Press CTRL+C to quit\n"
     ]
    }
   ],
   "source": [
    "from flask import Flask, render_template\n",
    "app = Flask(__name__)\n",
    "@app.route(\"/\")\n",
    "def home() :\n",
    "    return render_template(\"main.html\")\n",
    "\n",
    "if __name__ == \"__main__\" :\n",
    "    app.run(host = \"192.168.21.83\", port = 9000)\n"
   ]
  },
  {
   "cell_type": "code",
   "execution_count": 38,
   "id": "6ccb698d-6180-45bc-890b-69c191797b68",
   "metadata": {},
   "outputs": [
    {
     "name": "stdout",
     "output_type": "stream",
     "text": [
      "Overwriting ./templates/main2.html\n"
     ]
    }
   ],
   "source": [
    "%%writefile ./templates/main2.html\n",
    "<html>\n",
    "<body>\n",
    "<!--url_for : 현재 접속중인 서버주소-->\n",
    "<img src={{url_for(\"static\", filename=\"0000500553_001_20240708151621049.jpg\")}}>\n",
    "</body>\n",
    "</html>"
   ]
  },
  {
   "cell_type": "code",
   "execution_count": 40,
   "id": "ce8c867c-ca87-4901-b626-472dbc751c5d",
   "metadata": {},
   "outputs": [
    {
     "name": "stdout",
     "output_type": "stream",
     "text": [
      " * Serving Flask app '__main__'\n",
      " * Debug mode: off\n"
     ]
    },
    {
     "name": "stderr",
     "output_type": "stream",
     "text": [
      "WARNING: This is a development server. Do not use it in a production deployment. Use a production WSGI server instead.\n",
      " * Running on http://192.168.21.83:9000\n",
      "Press CTRL+C to quit\n"
     ]
    }
   ],
   "source": [
    "from flask import Flask, render_template\n",
    "app = Flask(__name__)\n",
    "@app.route(\"/\")\n",
    "def home() :\n",
    "    return render_template(\"main.html\")\n",
    "\n",
    "@app.route(\"/main2\")\n",
    "def main2() :\n",
    "    return render_template(\"main2.html\")\n",
    "\n",
    "if __name__ == \"__main__\" :\n",
    "    app.run(host = \"192.168.21.83\", port = 9000)"
   ]
  },
  {
   "cell_type": "markdown",
   "id": "d0be01e7-69c4-4053-b012-9b572d791a58",
   "metadata": {},
   "source": [
    "# 파이썬 DB연동하기\n",
    "- cx_Oracle 라이브러리 사용\n",
    "\n",
    "- 데이터베이스 연동\n",
    "  - 연결객체 : DB 연결 (아이디, 패스워드, IP, 포트, DB명)\n",
    "  - 커서객체 : 연결객체에서 생성, SQL문을  DB로 보내서 실행하고 SQL 문의 실행 결과를 받아온다."
   ]
  },
  {
   "cell_type": "code",
   "execution_count": 42,
   "id": "50f2ef38-c02d-4838-b8f0-5eb443f30008",
   "metadata": {},
   "outputs": [
    {
     "name": "stdout",
     "output_type": "stream",
     "text": [
      "Requirement already satisfied: cx_Oracle in c:\\users\\user\\anaconda3\\lib\\site-packages (8.3.0)\n"
     ]
    }
   ],
   "source": [
    "!pip install cx_Oracle"
   ]
  },
  {
   "cell_type": "markdown",
   "id": "d4a947a6-4ac4-40d6-beff-88f5045d1994",
   "metadata": {},
   "source": [
    "- 연결객체 생성"
   ]
  },
  {
   "cell_type": "code",
   "execution_count": 44,
   "id": "743d5405-3e28-49eb-864a-cf40e9c4f0e3",
   "metadata": {},
   "outputs": [
    {
     "name": "stdout",
     "output_type": "stream",
     "text": [
      "DB 연결 성공\n"
     ]
    }
   ],
   "source": [
    "import cx_Oracle\n",
    "\n",
    "id_val = \"hr\"\n",
    "pw_val = \"12345\"\n",
    "ip_port_db = \"localhost:1521/xe\"\n",
    "\n",
    "# 예외처리 : 외부환경에 의해서 발생하는 오류를 처리하기 위한 루틴\n",
    "# try~except~(else)~(finally)\n",
    "try : \n",
    "    conn = cx_Oracle.connect(id_val, pw_val, ip_port_db)\n",
    "    print(\"DB 연결 성공\")\n",
    "except cx_Oracle.DatabaseError as e :\n",
    "    print(e)"
   ]
  },
  {
   "cell_type": "markdown",
   "id": "cb6da797-1955-4f48-892d-e7541efcbf1f",
   "metadata": {},
   "source": [
    "- 커서객체 생성"
   ]
  },
  {
   "cell_type": "code",
   "execution_count": 46,
   "id": "8c41bad2-d818-4d10-9e6a-d5da19a788c9",
   "metadata": {},
   "outputs": [],
   "source": [
    "cur = conn.cursor()"
   ]
  },
  {
   "cell_type": "markdown",
   "id": "4e15eaa1-85a9-4e79-a97a-79e1f8a60969",
   "metadata": {},
   "source": [
    "- 쿼리문 실행 구조\n",
    "  - 데이터의 내용이 변경되는 SQL문 (create table, drop table, insert into, update, delete 등)\n",
    "  - SQL문을 실행한 후에 commit()을 해줘야함.\n",
    "  - 데이터의 내용이 변경되지 않는 문 (select)\n",
    "    - 반환값을 받아와야 한다. (cursor 객체를 이용해서)"
   ]
  },
  {
   "cell_type": "markdown",
   "id": "e3b0726b-1974-4471-ab94-72d400254d01",
   "metadata": {},
   "source": [
    "- 테이블 생성"
   ]
  },
  {
   "cell_type": "code",
   "execution_count": 49,
   "id": "1178a40d-57cb-49ee-af9d-933922a4a97e",
   "metadata": {},
   "outputs": [
    {
     "name": "stdout",
     "output_type": "stream",
     "text": [
      "ORA-00955: name is already used by an existing object\n"
     ]
    }
   ],
   "source": [
    "sql = \"\"\"create table member_tbl(\n",
    "    code varchar(10) primary key, \n",
    "    name varchar(10) not null,\n",
    "    age integer not null,\n",
    "    id_val varchar(10) not null,\n",
    "    pw_val varchar(10) not null\n",
    "    )\"\"\"\n",
    "try :\n",
    "    \n",
    "    # execute : SQL문을 데이터베이스로 전송해서 실행\n",
    "    cur.execute(sql)\n",
    "    conn.commit\n",
    "    print(\"테이블 생성완료\")\n",
    "except cx_Oracle.DatabaseError as e :\n",
    "    print(e)"
   ]
  },
  {
   "cell_type": "markdown",
   "id": "e7e47d8a-8832-4206-99b8-966c86cb23e3",
   "metadata": {},
   "source": [
    "- 테이블에 데이터 저장"
   ]
  },
  {
   "cell_type": "code",
   "execution_count": 51,
   "id": "29834058-bbba-4091-b55b-f20c4befcbe5",
   "metadata": {},
   "outputs": [
    {
     "name": "stdout",
     "output_type": "stream",
     "text": [
      "데이터 저장 완료!\n"
     ]
    }
   ],
   "source": [
    "sql = \"insert into member_tbl values('A001', '홍길동', 30, 'test', '1234')\"\n",
    "\n",
    "try :\n",
    "    cur.execute(sql)\n",
    "    conn.commit()\n",
    "    print(\"데이터 저장 완료!\")\n",
    "except cx_Oracle.DatabaseError as e :\n",
    "    print(e)"
   ]
  },
  {
   "cell_type": "markdown",
   "id": "76e16cf0-2de3-4686-b535-3f13bc312a96",
   "metadata": {},
   "source": [
    "- 데이터베이스 내용 가져오기"
   ]
  },
  {
   "cell_type": "markdown",
   "id": "5700434d-7d7f-4e14-8b8d-90b02899c69d",
   "metadata": {},
   "source": [
    "- 데이터베이스 내용 가져오기\n",
    "  - fetchall() : 복수의 데이터를 가져온다 (각 데이터를 리스트로 만들어서 가져옴)\n",
    "  - fetchone() : 하나의 데이터만 가져온다 (튜플로 구성)"
   ]
  },
  {
   "cell_type": "code",
   "execution_count": 53,
   "id": "baf25ce5-c146-4aed-9d1c-efaddf52ed9e",
   "metadata": {},
   "outputs": [
    {
     "name": "stdout",
     "output_type": "stream",
     "text": [
      "데이터 검색 완료!\n"
     ]
    }
   ],
   "source": [
    "sql = \"select * from member_tbl\"\n",
    "try :\n",
    "    cur.execute(sql)\n",
    "    rs = cur.fetchone()\n",
    "    print(\"데이터 검색 완료!\")\n",
    "except cx_Oracle.DatabaseError as e :\n",
    "    print(e)"
   ]
  },
  {
   "cell_type": "code",
   "execution_count": 55,
   "id": "fa218600-28d2-4434-9260-2ed9240a5cbf",
   "metadata": {},
   "outputs": [
    {
     "data": {
      "text/plain": [
       "('A001', '홍길동', 30, 'test', '1234')"
      ]
     },
     "execution_count": 55,
     "metadata": {},
     "output_type": "execute_result"
    }
   ],
   "source": [
    "rs"
   ]
  },
  {
   "cell_type": "markdown",
   "id": "efdb8ef8-6f01-43ec-b927-db7b0bbb6250",
   "metadata": {},
   "source": [
    "# Login 기능 만들기"
   ]
  },
  {
   "cell_type": "markdown",
   "id": "cc294eb0-3e41-4053-bceb-86b282a90351",
   "metadata": {},
   "source": [
    "- DB 관리 모듈 만들기"
   ]
  },
  {
   "cell_type": "code",
   "execution_count": 57,
   "id": "fdb0db63-82f5-4a08-aaef-1ca408cf9742",
   "metadata": {},
   "outputs": [
    {
     "name": "stdout",
     "output_type": "stream",
     "text": [
      "Overwriting DB_Manage.py\n"
     ]
    }
   ],
   "source": [
    "%%writefile DB_Manage.py\n",
    "import cx_Oracle\n",
    "\n",
    "def db_conn() :\n",
    "    try :\n",
    "        conn = cx_Oracle.connect(\"hr\", \"12345\", \"localhost:1521/xe\")\n",
    "        cur = conn.cursor()\n",
    "        print(\"DB 연결 성공\")\n",
    "\n",
    "        return conn, cur\n",
    "    except cx_Oracle.DatabaseError as e :\n",
    "        print(e)\n",
    "\n",
    "def db_disconn(conn, cur) :\n",
    "    cur.close()\n",
    "    conn.close()\n",
    "    print(\"DB 연결종료\")\n",
    "\n",
    "def db_search(cur, id_val, pw_val) :\n",
    "    sql = f\"select code, name, age from member_tbl where id_val='{id_val}' and pw_val='{pw_val}'\"\n",
    "\n",
    "    print(sql)\n",
    "\n",
    "    try :\n",
    "        cur.execute(sql)\n",
    "        print(\"데이터 검색 완료\")\n",
    "        return cur.fetchone()\n",
    "    except cx_Oracle.DatabaseError as e :\n",
    "        print(e)"
   ]
  },
  {
   "cell_type": "code",
   "execution_count": 61,
   "id": "94ac13e8-8d77-4bee-bdb0-65d0a333d8ca",
   "metadata": {},
   "outputs": [
    {
     "name": "stdout",
     "output_type": "stream",
     "text": [
      " * Serving Flask app '__main__'\n",
      " * Debug mode: off\n"
     ]
    },
    {
     "name": "stderr",
     "output_type": "stream",
     "text": [
      "WARNING: This is a development server. Do not use it in a production deployment. Use a production WSGI server instead.\n",
      " * Running on http://192.168.21.83:9000\n",
      "Press CTRL+C to quit\n",
      "192.168.21.83 - - [09/Jul/2024 16:53:09] \"GET / HTTP/1.1\" 200 -\n",
      "192.168.21.83 - - [09/Jul/2024 16:53:13] \"POST /login_ok HTTP/1.1\" 200 -\n"
     ]
    },
    {
     "name": "stdout",
     "output_type": "stream",
     "text": [
      "DB 연결 성공\n",
      "select code, name, age from member_tbl where id_val='test' and pw_val='12345'\n",
      "데이터 검색 완료\n",
      "DB 연결종료\n"
     ]
    },
    {
     "name": "stderr",
     "output_type": "stream",
     "text": [
      "192.168.21.83 - - [09/Jul/2024 16:53:17] \"POST /login_ok HTTP/1.1\" 200 -\n"
     ]
    },
    {
     "name": "stdout",
     "output_type": "stream",
     "text": [
      "DB 연결 성공\n",
      "select code, name, age from member_tbl where id_val='test' and pw_val='1234'\n",
      "데이터 검색 완료\n",
      "DB 연결종료\n"
     ]
    }
   ],
   "source": [
    "from flask import Flask, render_template, request\n",
    "# import DB_Manage as dm\n",
    "from DB_Manage import db_conn, db_disconn, db_search\n",
    "\n",
    "app = Flask(__name__)\n",
    "\n",
    "@app.route(\"/\")\n",
    "def home() :\n",
    "    return render_template(\"login2.html\")\n",
    "\n",
    "@app.route(\"/login_ok\", methods=[\"POST\"])\n",
    "def login_ok() :\n",
    "    id_val = request.form[\"id\"]\n",
    "    pw_val = request.form[\"pw\"]\n",
    "\n",
    "    conn, cur = db_conn()\n",
    "    rs = db_search(cur, id_val, pw_val)\n",
    "    db_disconn(conn, cur)\n",
    "\n",
    "    if rs == None :\n",
    "        return render_template(\"login2.html\")\n",
    "    else :\n",
    "        return f\"코드 : {rs[0]}, 이름 : {rs[1]}, 나이 : {rs[2]}\"\n",
    "    print(rs)\n",
    "    \n",
    "\n",
    "if __name__ == \"__main__\" :\n",
    "    app.run(host=\"192.168.21.83\", port=9000)"
   ]
  },
  {
   "cell_type": "code",
   "execution_count": null,
   "id": "316e80a6-8280-4da5-9d7e-0ea66cc8d7f4",
   "metadata": {},
   "outputs": [],
   "source": []
  },
  {
   "cell_type": "code",
   "execution_count": null,
   "id": "80ec68d9-9f9d-421e-a54a-8d36e7223df4",
   "metadata": {},
   "outputs": [],
   "source": []
  },
  {
   "cell_type": "code",
   "execution_count": null,
   "id": "369ebfa5-bac3-4d69-8ebf-f0c91f9bb6aa",
   "metadata": {},
   "outputs": [],
   "source": []
  },
  {
   "cell_type": "code",
   "execution_count": null,
   "id": "348470d9-68fd-468d-9b7e-c2197b6c2337",
   "metadata": {},
   "outputs": [],
   "source": []
  },
  {
   "cell_type": "code",
   "execution_count": null,
   "id": "0820b83d-7ba6-49c9-96c8-02151018b6d2",
   "metadata": {},
   "outputs": [],
   "source": []
  }
 ],
 "metadata": {
  "kernelspec": {
   "display_name": "Python 3 (ipykernel)",
   "language": "python",
   "name": "python3"
  },
  "language_info": {
   "codemirror_mode": {
    "name": "ipython",
    "version": 3
   },
   "file_extension": ".py",
   "mimetype": "text/x-python",
   "name": "python",
   "nbconvert_exporter": "python",
   "pygments_lexer": "ipython3",
   "version": "3.11.7"
  }
 },
 "nbformat": 4,
 "nbformat_minor": 5
}
