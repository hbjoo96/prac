{
 "cells": [
  {
   "cell_type": "code",
   "execution_count": 1,
   "id": "a22390a7-3a2b-4764-815d-5fc543c949c8",
   "metadata": {},
   "outputs": [],
   "source": [
    "A = 1\n",
    "B = 2\n",
    "\n",
    "def add(*args) :\n",
    "    return sum(args)\n"
   ]
  },
  {
   "cell_type": "code",
   "execution_count": 7,
   "id": "e1d4cd3c-98a1-46b7-a801-ffd19bb40b7b",
   "metadata": {},
   "outputs": [],
   "source": [
    "# !jupyter nbconvert --to script 04.모듈.ipynb"
   ]
  },
  {
   "cell_type": "code",
   "execution_count": 5,
   "id": "5f3805c4-badd-4009-974f-810bf5c3a4ed",
   "metadata": {},
   "outputs": [
    {
     "name": "stderr",
     "output_type": "stream",
     "text": [
      "[NbConvertApp] Converting notebook 04.모듈.ipynb to script\n",
      "[NbConvertApp] Writing 544 bytes to 04.모듈.py\n"
     ]
    }
   ],
   "source": [
    "!jupyter nbconvert --to script 04.모듈.ipynb\n",
    "\n",
    "# ! -> python 언어가 아닌 프롬프트 명령어(스크립트문)\n",
    "# jupyter nbconvert : 주피터 파일(i[ynb)을 다른 형식으로 변환할 수 있는 명령어(기본으로 .py로 변환)\n",
    "# --to : 타겟 지정\n",
    "# script 파일명 : 타겟의 형식을 지정"
   ]
  }
 ],
 "metadata": {
  "kernelspec": {
   "display_name": "Python 3 (ipykernel)",
   "language": "python",
   "name": "python3"
  },
  "language_info": {
   "codemirror_mode": {
    "name": "ipython",
    "version": 3
   },
   "file_extension": ".py",
   "mimetype": "text/x-python",
   "name": "python",
   "nbconvert_exporter": "python",
   "pygments_lexer": "ipython3",
   "version": "3.11.7"
  }
 },
 "nbformat": 4,
 "nbformat_minor": 5
}
