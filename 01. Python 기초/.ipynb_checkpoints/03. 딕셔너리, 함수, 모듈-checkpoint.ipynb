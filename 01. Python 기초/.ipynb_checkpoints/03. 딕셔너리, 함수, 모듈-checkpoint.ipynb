{
 "cells": [
  {
   "cell_type": "markdown",
   "id": "ec2b8ac5-5978-4fab-bae9-9bb8690b87b9",
   "metadata": {},
   "source": [
    "### 딕셔너리(dictionary)\n",
    "- 파이썬에서 제공되는 자료형 중 하나\n",
    "- 말 그대로 사전\n",
    "- {key:value, key:value, key:value....}\n",
    "- 각각의 속성이나 개성을 표현할 때 딕셔너리 활용\n",
    "- 순서가 없는 객체의 집합"
   ]
  },
  {
   "cell_type": "code",
   "execution_count": 4,
   "id": "3b36888d-cd33-42af-b692-169c0ad09360",
   "metadata": {},
   "outputs": [
    {
     "data": {
      "text/plain": [
       "{'key': 'value', 'name': 'BG', 'age': 20, 'phone': '010-1111-2222'}"
      ]
     },
     "execution_count": 4,
     "metadata": {},
     "output_type": "execute_result"
    }
   ],
   "source": [
    "dict1 = {\"key\" : \"value\", \"name\" : \"BG\", \"age\" : 20, \"phone\" : \"010-1111-2222\"}\n",
    "dict1"
   ]
  },
  {
   "cell_type": "code",
   "execution_count": 14,
   "id": "f32cf5ea-92b1-474c-ae5a-a1fd546f9346",
   "metadata": {},
   "outputs": [],
   "source": [
    "# 추가 : 없는 key값을 지정(인덱싱)하고 대입\n",
    "dict1[\"birth\"] = \"01/01\""
   ]
  },
  {
   "cell_type": "code",
   "execution_count": 16,
   "id": "0c768450-b097-4d75-a7b3-1531a8b4eb6c",
   "metadata": {},
   "outputs": [
    {
     "data": {
      "text/plain": [
       "{'key': 'value',\n",
       " 'name': 'BG',\n",
       " 'age': 20,\n",
       " 'phone': '010-1111-2222',\n",
       " 'birth': '01/01'}"
      ]
     },
     "execution_count": 16,
     "metadata": {},
     "output_type": "execute_result"
    }
   ],
   "source": [
    "dict1"
   ]
  },
  {
   "cell_type": "code",
   "execution_count": 20,
   "id": "e4ac98bd-a1e5-41d8-9405-0b943679baf0",
   "metadata": {},
   "outputs": [],
   "source": [
    "# 수정 : 있는 key값을 지정(인덱싱)하고 대입\n",
    "dict1['phone'] = \"010-3333-4444\""
   ]
  },
  {
   "cell_type": "code",
   "execution_count": 22,
   "id": "679cdedf-9f7e-4b13-9dea-435e72191c5c",
   "metadata": {},
   "outputs": [
    {
     "data": {
      "text/plain": [
       "{'key': 'value',\n",
       " 'name': 'BG',\n",
       " 'age': 20,\n",
       " 'phone': '010-3333-4444',\n",
       " 'birth': '01/01'}"
      ]
     },
     "execution_count": 22,
     "metadata": {},
     "output_type": "execute_result"
    }
   ],
   "source": [
    "dict1"
   ]
  },
  {
   "cell_type": "code",
   "execution_count": 26,
   "id": "698e2c77-b39d-43fb-880d-1da7f4b24f8b",
   "metadata": {},
   "outputs": [],
   "source": [
    "# 삭제\n",
    "del dict1[\"birth\"]"
   ]
  },
  {
   "cell_type": "code",
   "execution_count": 28,
   "id": "fb5d0d37-3b18-40d2-8ec9-2cd03086433f",
   "metadata": {},
   "outputs": [
    {
     "data": {
      "text/plain": [
       "{'key': 'value', 'name': 'BG', 'age': 20, 'phone': '010-3333-4444'}"
      ]
     },
     "execution_count": 28,
     "metadata": {},
     "output_type": "execute_result"
    }
   ],
   "source": [
    "dict1"
   ]
  },
  {
   "cell_type": "code",
   "execution_count": 34,
   "id": "cffa40a0-35c8-4606-8a54-f33d9ce66b59",
   "metadata": {},
   "outputs": [
    {
     "data": {
      "text/plain": [
       "'BG'"
      ]
     },
     "execution_count": 34,
     "metadata": {},
     "output_type": "execute_result"
    }
   ],
   "source": [
    "dict1[\"name\"] # 딕셔너리 인덱싱"
   ]
  },
  {
   "cell_type": "code",
   "execution_count": 56,
   "id": "5db4519e-984d-4533-ab68-2423a427a786",
   "metadata": {},
   "outputs": [
    {
     "data": {
      "text/plain": [
       "'age'"
      ]
     },
     "execution_count": 56,
     "metadata": {},
     "output_type": "execute_result"
    }
   ],
   "source": [
    "# key값들만 확인\n",
    "list(dict1.keys())[2] # key값을 지정하고자 하는 경우, 딕셔너리는 순서가 없기 때문에 순서를 만들어주면 됨! -> 형변환!"
   ]
  },
  {
   "cell_type": "code",
   "execution_count": 44,
   "id": "2ee758d9-6853-4418-b321-43b7d47d40b5",
   "metadata": {},
   "outputs": [
    {
     "data": {
      "text/plain": [
       "dict_values(['value', 'BG', 20, '010-3333-4444'])"
      ]
     },
     "execution_count": 44,
     "metadata": {},
     "output_type": "execute_result"
    }
   ],
   "source": [
    "# value값들만 확인\n",
    "dict1.values()"
   ]
  },
  {
   "cell_type": "code",
   "execution_count": 54,
   "id": "a1d30df0-dfce-4357-aa2d-62d9a782368c",
   "metadata": {},
   "outputs": [
    {
     "data": {
      "text/plain": [
       "'010-3333-4444'"
      ]
     },
     "execution_count": 54,
     "metadata": {},
     "output_type": "execute_result"
    }
   ],
   "source": [
    "# key와 value를 확인\n",
    "list(dict1.items())[-1][1]"
   ]
  },
  {
   "cell_type": "code",
   "execution_count": 70,
   "id": "e10a135f-4a10-4150-8d2e-a4007a0603c4",
   "metadata": {},
   "outputs": [
    {
     "name": "stdout",
     "output_type": "stream",
     "text": [
      "name\n",
      "BG\n",
      "age\n",
      "20\n",
      "phone\n",
      "010-3333-4444\n"
     ]
    }
   ],
   "source": [
    "# 반복문 활용\n",
    "# 딕셔너리에서 특정 범위만큼 들여다보고 싶은 경우, list로 형변환 후 슬라이싱 활용!\n",
    "\n",
    "# 튜플로 패킹되어 있는 요소를 들여다볼 때, 각 개수만큼 변수를 선언해서 반복문을 활용!\n",
    "for key, value in list(dict1.items())[1:] : \n",
    "    print(key)\n",
    "    print(value)\n",
    "    "
   ]
  },
  {
   "cell_type": "markdown",
   "id": "7c5b69d0-fd96-4a74-9b39-6c9878b7f7e3",
   "metadata": {},
   "source": [
    "### 함수(Function)\n",
    "- <b>호출</b> 될 때 <b>특정 기능을 수행</b>하는 <b>재사용 가능</b>한 코드블록"
   ]
  },
  {
   "cell_type": "markdown",
   "id": "4622c13f-4f18-4375-be11-70316750aba1",
   "metadata": {},
   "source": [
    "- 함수 정의\n",
    "```python\n",
    "def 함수명 (매개변수) :\n",
    "    코드블록\n",
    "    return 결과값\n",
    "```\n",
    "- 함수 호출\n",
    "```python\n",
    "함수명(인수)\n",
    "```"
   ]
  },
  {
   "cell_type": "code",
   "execution_count": 87,
   "id": "7bf0e95a-4300-48b1-ba20-50ea4c9347cd",
   "metadata": {},
   "outputs": [],
   "source": [
    "# 함수 정의\n",
    "def add(a, b = 5) :\n",
    "    print(f\"a : {a}\")\n",
    "    print(f\"b : {b}\")\n",
    "    result = a + b\n",
    "    return result"
   ]
  },
  {
   "cell_type": "code",
   "execution_count": 93,
   "id": "343d9a8b-b940-4287-9a30-94a869d22a90",
   "metadata": {},
   "outputs": [
    {
     "name": "stdout",
     "output_type": "stream",
     "text": [
      "a : 1\n",
      "b : 7\n"
     ]
    },
    {
     "data": {
      "text/plain": [
       "8"
      ]
     },
     "execution_count": 93,
     "metadata": {},
     "output_type": "execute_result"
    }
   ],
   "source": [
    "# 함수 호출\n",
    "num1 = 1\n",
    "num2 = 2\n",
    "\n",
    "\n",
    "add(num1, b = 7)"
   ]
  },
  {
   "cell_type": "code",
   "execution_count": 101,
   "id": "ae29d35f-6f00-435d-b4ed-8865f43f71f8",
   "metadata": {},
   "outputs": [
    {
     "name": "stdout",
     "output_type": "stream",
     "text": [
      "안녕하세요반갑습니다\n"
     ]
    }
   ],
   "source": [
    "print(\"안녕\", end=\"\")\n",
    "print(\"하세요\", \"반갑습니다\", sep = \"\")"
   ]
  },
  {
   "cell_type": "markdown",
   "id": "6f0d4bde-e72d-424c-8a28-576c54c2da51",
   "metadata": {},
   "source": [
    "### 함수의 특성\n",
    "1. 매개변수의 순서대로 인자값이 전달\n",
    "2. 매개변수를 지정해서 호출 시 순서 상관 없이 전달\n",
    "3. 함수 정의 시 기본값을 세팅\n",
    "4. return의 결괏값은 언제나 하나!\n",
    "5. 입력값이나 결괏값이 있을 수도 있고, 없을 수도 있음!"
   ]
  },
  {
   "cell_type": "code",
   "execution_count": 108,
   "id": "905aa534-eff2-4f38-9048-bfc5d891c055",
   "metadata": {},
   "outputs": [],
   "source": [
    "# return의 결괏값은 언제나 하나!\n",
    "def add_mul(a, b) :\n",
    "    return a + b  # break문과 비슷, 빠져나오기 때문에 a * b는 출력될 수 없음\n",
    "    return a * b"
   ]
  },
  {
   "cell_type": "code",
   "execution_count": 106,
   "id": "e0245550-eb63-4348-bdfb-f0fd3aaaaec7",
   "metadata": {},
   "outputs": [
    {
     "data": {
      "text/plain": [
       "11"
      ]
     },
     "execution_count": 106,
     "metadata": {},
     "output_type": "execute_result"
    }
   ],
   "source": [
    "add_mul(4, 7)"
   ]
  },
  {
   "cell_type": "code",
   "execution_count": 110,
   "id": "63046a58-823f-4760-a4da-45325a6c4483",
   "metadata": {},
   "outputs": [],
   "source": [
    "def add_mul(a, b) :\n",
    "    return a + b, a * b"
   ]
  },
  {
   "cell_type": "code",
   "execution_count": 114,
   "id": "0773f96c-6362-411a-acc4-74297b1be06e",
   "metadata": {},
   "outputs": [
    {
     "data": {
      "text/plain": [
       "(11, 28)"
      ]
     },
     "execution_count": 114,
     "metadata": {},
     "output_type": "execute_result"
    }
   ],
   "source": [
    "add_mul(4, 7) # 값이 튜플로 패킹되서 하나가 나옴"
   ]
  },
  {
   "cell_type": "code",
   "execution_count": 117,
   "id": "e183f9d1-3dcd-41b4-b393-4d420dfdb424",
   "metadata": {},
   "outputs": [],
   "source": [
    "# 입력값이나 결괏값이 있을 수도 있고, 없을 수도 있음!\n",
    "\n",
    "# 입력값이 없고, 결괏값이 있는 함수!\n",
    "def say() : \n",
    "    return \"Hi\""
   ]
  },
  {
   "cell_type": "code",
   "execution_count": 123,
   "id": "193e2db5-9631-4ac0-9fb9-f08a50b1d746",
   "metadata": {},
   "outputs": [
    {
     "data": {
      "text/plain": [
       "'Hi'"
      ]
     },
     "execution_count": 123,
     "metadata": {},
     "output_type": "execute_result"
    }
   ],
   "source": [
    "a = say()\n",
    "a"
   ]
  },
  {
   "cell_type": "code",
   "execution_count": 135,
   "id": "3808dafa-00f9-430f-b262-10c0103cc928",
   "metadata": {},
   "outputs": [],
   "source": [
    "# 입력값과 결괏값이 없는 함수!\n",
    "def say() :\n",
    "    print(\"Hi\")"
   ]
  },
  {
   "cell_type": "code",
   "execution_count": 137,
   "id": "ead38be1-5628-411d-9491-236aa6a1fa13",
   "metadata": {},
   "outputs": [
    {
     "name": "stdout",
     "output_type": "stream",
     "text": [
      "Hi\n",
      "None\n"
     ]
    }
   ],
   "source": [
    "a = say()\n",
    "print(a)"
   ]
  },
  {
   "cell_type": "code",
   "execution_count": 139,
   "id": "b312612f-47ac-4abc-9656-3230d88739a5",
   "metadata": {},
   "outputs": [],
   "source": [
    "# 만약에 내가 만든 함수를 다른 개발자가 보고 이해할 수 없다면..?\n",
    "# Docstring(독스트링) : 함수의 설명문\n",
    "def add(a, b = 5) :\n",
    "    \"\"\"독스트링 입니다! 더해주는 함수임!\"\"\"\n",
    "    print(f\"a : {a}\")\n",
    "    print(f\"b : {b}\")\n",
    "    result = a + b\n",
    "    return result\n"
   ]
  },
  {
   "cell_type": "code",
   "execution_count": null,
   "id": "18f4397a-f2eb-489c-96e6-a04875d3533d",
   "metadata": {},
   "outputs": [],
   "source": [
    "add()"
   ]
  },
  {
   "cell_type": "code",
   "execution_count": 165,
   "id": "3db662a9-eb29-4475-9e4d-4b46b3c84c2e",
   "metadata": {},
   "outputs": [],
   "source": [
    "# 입력값의 개수가 정해져 있지 않다면...?\n",
    "# 가변매개변수(*) : 함수 호출 시 몇 개의 인수가 전달 될 지 알 수 없다면, 호출자 입장에서 매개변수의 개수를 정할 수 있도록 선언\n",
    "def add(*args) :\n",
    "    print(args)\n",
    "    result = sum(args)\n",
    "    return result"
   ]
  },
  {
   "cell_type": "code",
   "execution_count": 167,
   "id": "94dc2932-530e-45d7-957d-fa98198fb19f",
   "metadata": {},
   "outputs": [
    {
     "name": "stdout",
     "output_type": "stream",
     "text": [
      "(1, 2, 3, 4)\n"
     ]
    },
    {
     "data": {
      "text/plain": [
       "10"
      ]
     },
     "execution_count": 167,
     "metadata": {},
     "output_type": "execute_result"
    }
   ],
   "source": [
    "add(1, 2, 3, 4)"
   ]
  },
  {
   "cell_type": "code",
   "execution_count": 179,
   "id": "4bd77d4d-0102-4b42-9015-3e1b71812b33",
   "metadata": {},
   "outputs": [],
   "source": [
    "# 집합\n",
    "# 중괄호 -> 중복 없음, 순서 없음\n",
    "set1 = {\"한국\", \"일본\", \"중국\", \"한국\"}"
   ]
  },
  {
   "cell_type": "code",
   "execution_count": 183,
   "id": "4ccb78f3-874e-4ed0-bdb8-4b50d457c138",
   "metadata": {},
   "outputs": [
    {
     "name": "stdout",
     "output_type": "stream",
     "text": [
      "{'한국', '중국', '일본'}\n"
     ]
    }
   ],
   "source": [
    "print(set1)"
   ]
  }
 ],
 "metadata": {
  "kernelspec": {
   "display_name": "Python 3 (ipykernel)",
   "language": "python",
   "name": "python3"
  },
  "language_info": {
   "codemirror_mode": {
    "name": "ipython",
    "version": 3
   },
   "file_extension": ".py",
   "mimetype": "text/x-python",
   "name": "python",
   "nbconvert_exporter": "python",
   "pygments_lexer": "ipython3",
   "version": "3.11.7"
  }
 },
 "nbformat": 4,
 "nbformat_minor": 5
}
