{
 "cells": [
  {
   "cell_type": "markdown",
   "id": "3db3a9bb-2b86-4aa6-8394-2cb3fed9f3b7",
   "metadata": {},
   "source": [
    "### 조건문\n",
    "- 상황에 따라 실행 흐름을 다르게 하는 문법\n",
    "```python\n",
    "if True : \n",
    "    코드블럭\n",
    "    코드블럭\n",
    "elif True :\n",
    "    코드블럭\n",
    "else :\n",
    "    코드블럭\n",
    "\n",
    "```\n",
    "\n",
    "- 콜론 \":\" 들여쓰기 \"space*4, Tab\"가 매우 중요!\n",
    "- 조건문 키워 : if, elif, else "
   ]
  },
  {
   "cell_type": "code",
   "execution_count": 39,
   "id": "066f4f7a-1a57-4f4e-8fd1-ad463594bf1e",
   "metadata": {},
   "outputs": [
    {
     "name": "stdin",
     "output_type": "stream",
     "text": [
      "점수 입력 >> 10\n"
     ]
    },
    {
     "name": "stdout",
     "output_type": "stream",
     "text": [
      "10점은 F학점입니다.\n"
     ]
    }
   ],
   "source": [
    "# 실습\n",
    "score = int(input(\"점수 입력 >>\"))\n",
    "\n",
    "if score <= 100 and score >= 90 :\n",
    "    print(str(score)+\"점은 A학점입니다.\")\n",
    "elif score >= 80 :\n",
    "    print(str(score)+\"점은 B학점입니다.\")\n",
    "elif score >= 70 :\n",
    "    print(str(score)+\"점은 C학점입니다.\")\n",
    "elif score >= 60 :\n",
    "    print(str(score)+\"점은 D학점입니다.\")\n",
    "elif score < 60:\n",
    "    print(str(score)+\"점은 F학점입니다.\")\n",
    "else :\n",
    "    print(\"잘 못 입력하였습니다.\")"
   ]
  },
  {
   "cell_type": "code",
   "execution_count": 11,
   "id": "08722465-073c-4a6b-8e09-b68479309420",
   "metadata": {},
   "outputs": [
    {
     "name": "stdin",
     "output_type": "stream",
     "text": [
      "점수 입력 >> -2\n"
     ]
    },
    {
     "name": "stdout",
     "output_type": "stream",
     "text": [
      "잘 못 입력하였습니다!\n"
     ]
    }
   ],
   "source": [
    "score = int(input(\"점수 입력 >>\"))\n",
    "\n",
    "if score <= 100 and score >=0 :\n",
    "    if score>=90 :\n",
    "        grade = \"A\"\n",
    "    elif score>=80 :\n",
    "        grade = \"B\"\n",
    "    elif score>=70 :\n",
    "        grade = \"C\"\n",
    "    elif score>=60 :\n",
    "        grade = \"D\"\n",
    "    else :\n",
    "        grade= \"F\"\n",
    "    print(f\"{score}점은 {grade}학점입니다.\")\n",
    "else :\n",
    "    print(\"잘 못 입력하였습니다!\")"
   ]
  },
  {
   "cell_type": "markdown",
   "id": "6cdd4d49-b2b1-420e-bd57-082747fc5ee5",
   "metadata": {},
   "source": [
    "### 리스트(list)\n",
    "- 파이썬에서 제공되는 자료형 중 하나\n",
    "- 순서가 있는 <b>수정 가능</b>한 객체의 집합\n",
    "- <b>대괄호'[]'로 작성</b>되어지며, 내부 요소는 콤마 ','로 구분지어짐\n",
    "\n",
    "### 튜플(tuple)\n",
    "- 파이썬에서 제공되는 자료형 중 하나\n",
    "- 순서가 있는 <b>수정 불가능</b>한 객체의 집합\n",
    "- <b>대괄호 '()'로 작성</b>되어지며, 내부 요소는 콤마 ','로 구분지어짐"
   ]
  },
  {
   "cell_type": "code",
   "execution_count": 5,
   "id": "9956f607-0c79-408c-bd5f-e99882251932",
   "metadata": {},
   "outputs": [],
   "source": [
    "list1 = [1, 2, '3', [1, 2, 3]]"
   ]
  },
  {
   "cell_type": "code",
   "execution_count": 7,
   "id": "46074502-c731-4c05-989e-147766bbc859",
   "metadata": {},
   "outputs": [
    {
     "data": {
      "text/plain": [
       "2"
      ]
     },
     "execution_count": 7,
     "metadata": {},
     "output_type": "execute_result"
    }
   ],
   "source": [
    "list1[3][1] # 인덱싱 : 무엇인가를 가리키다!"
   ]
  },
  {
   "cell_type": "code",
   "execution_count": 9,
   "id": "674f8a13-954b-46ba-89f4-314383fe366a",
   "metadata": {},
   "outputs": [
    {
     "data": {
      "text/plain": [
       "[2, 3]"
      ]
     },
     "execution_count": 9,
     "metadata": {},
     "output_type": "execute_result"
    }
   ],
   "source": [
    "list1[3][1:] # 슬라이싱 : 무엇인가를 잘라낼떄"
   ]
  },
  {
   "cell_type": "code",
   "execution_count": 11,
   "id": "b712f27c-0439-4024-9ea9-3cc54bc10e60",
   "metadata": {},
   "outputs": [],
   "source": [
    "# 추가 \n",
    "list1.append(4) # 맨 뒤에 값을 추가"
   ]
  },
  {
   "cell_type": "code",
   "execution_count": 13,
   "id": "dad26ff6-7c55-4cb1-8f58-6354e0c25ee9",
   "metadata": {},
   "outputs": [],
   "source": [
    "list1.insert(3, 3) # 해당 위치에 값을 추가"
   ]
  },
  {
   "cell_type": "code",
   "execution_count": 15,
   "id": "0dd926bc-227b-4e67-9dc2-e6c72d6b3bee",
   "metadata": {},
   "outputs": [
    {
     "data": {
      "text/plain": [
       "[1, 2, '3', 3, [1, 2, 3], 4]"
      ]
     },
     "execution_count": 15,
     "metadata": {},
     "output_type": "execute_result"
    }
   ],
   "source": [
    "list1"
   ]
  },
  {
   "cell_type": "markdown",
   "id": "400cd882-7ac7-44ee-8329-3cd0aefa7528",
   "metadata": {},
   "source": [
    "#### 수정\n",
    "- \"지정(인덱싱, 슬라이싱)\"하고 \"대입\""
   ]
  },
  {
   "cell_type": "code",
   "execution_count": 17,
   "id": "12b93ef5-e007-4dd3-904b-fe5e2e28cf5a",
   "metadata": {},
   "outputs": [],
   "source": [
    "list1[2] = 5"
   ]
  },
  {
   "cell_type": "code",
   "execution_count": 19,
   "id": "4d0267ab-4fc6-4820-b785-002e5ce667f4",
   "metadata": {},
   "outputs": [
    {
     "data": {
      "text/plain": [
       "[1, 2, 5, 3, [1, 2, 3], 4]"
      ]
     },
     "execution_count": 19,
     "metadata": {},
     "output_type": "execute_result"
    }
   ],
   "source": [
    "list1"
   ]
  },
  {
   "cell_type": "code",
   "execution_count": 21,
   "id": "6da3c1b4-df72-485a-89d6-d66190e923c2",
   "metadata": {},
   "outputs": [],
   "source": [
    "# 삭제\n",
    "list1.remove(3) # 해당 값을 인덱스 순서대로 순회하며 찾으며 삭제"
   ]
  },
  {
   "cell_type": "code",
   "execution_count": 23,
   "id": "d671c7d4-5d2e-403b-88b7-878e982bbad8",
   "metadata": {},
   "outputs": [],
   "source": [
    "# del >>키워드<< : 인덱싱이나 슬라이싱을 수행해서 삭제\n",
    "del list1[4]"
   ]
  },
  {
   "cell_type": "code",
   "execution_count": 25,
   "id": "3a127440-81d7-4e26-975a-3d2d346aca33",
   "metadata": {},
   "outputs": [
    {
     "data": {
      "text/plain": [
       "[1, 2, 5, [1, 2, 3]]"
      ]
     },
     "execution_count": 25,
     "metadata": {},
     "output_type": "execute_result"
    }
   ],
   "source": [
    "list1"
   ]
  },
  {
   "cell_type": "code",
   "execution_count": 27,
   "id": "243bcbd6-f015-41ab-8ee2-445738849453",
   "metadata": {},
   "outputs": [
    {
     "data": {
      "text/plain": [
       "[9, 77, 103, 51, 15, 3]"
      ]
     },
     "execution_count": 27,
     "metadata": {},
     "output_type": "execute_result"
    }
   ],
   "source": [
    "# 정렬, 길이확인\n",
    "list2 = [9, 77, 103, 51, 15, 3]\n",
    "list2"
   ]
  },
  {
   "cell_type": "code",
   "execution_count": 29,
   "id": "f3f5c376-405b-479f-b652-2c515bf54f14",
   "metadata": {},
   "outputs": [],
   "source": [
    "list2.sort()"
   ]
  },
  {
   "cell_type": "code",
   "execution_count": 31,
   "id": "ffaa081c-088e-4b2a-8387-c2eef4794c7f",
   "metadata": {},
   "outputs": [
    {
     "data": {
      "text/plain": [
       "[3, 9, 15, 51, 77, 103]"
      ]
     },
     "execution_count": 31,
     "metadata": {},
     "output_type": "execute_result"
    }
   ],
   "source": [
    "list2"
   ]
  },
  {
   "cell_type": "code",
   "execution_count": 35,
   "id": "ef409ec9-e02a-4dd4-be51-c33c81be2263",
   "metadata": {},
   "outputs": [],
   "source": [
    "list2.sort(reverse = True) # reverse True 설정 시 내림차순으로 전환!"
   ]
  },
  {
   "cell_type": "code",
   "execution_count": 37,
   "id": "815a95eb-49df-4b2a-8ac6-e2cacb98033c",
   "metadata": {},
   "outputs": [
    {
     "data": {
      "text/plain": [
       "[103, 77, 51, 15, 9, 3]"
      ]
     },
     "execution_count": 37,
     "metadata": {},
     "output_type": "execute_result"
    }
   ],
   "source": [
    "list2"
   ]
  },
  {
   "cell_type": "code",
   "execution_count": 39,
   "id": "7103138a-1dfd-4226-ae30-ef4a0000746f",
   "metadata": {},
   "outputs": [
    {
     "data": {
      "text/plain": [
       "6"
      ]
     },
     "execution_count": 39,
     "metadata": {},
     "output_type": "execute_result"
    }
   ],
   "source": [
    "# 길이확인\n",
    "len(list2)"
   ]
  },
  {
   "cell_type": "code",
   "execution_count": 43,
   "id": "5e2c0049-b9de-482d-b9f7-4baf89ce8e88",
   "metadata": {},
   "outputs": [],
   "source": [
    "tuple1 = (1, 2, \"3\", (1, 2, 3), [4, 5, 6])"
   ]
  },
  {
   "cell_type": "code",
   "execution_count": 45,
   "id": "45386506-7c10-4867-b0cd-90ed218a79ca",
   "metadata": {},
   "outputs": [
    {
     "data": {
      "text/plain": [
       "(1, 2, '3', (1, 2, 3), [4, 5, 6])"
      ]
     },
     "execution_count": 45,
     "metadata": {},
     "output_type": "execute_result"
    }
   ],
   "source": [
    "tuple1"
   ]
  },
  {
   "cell_type": "code",
   "execution_count": 87,
   "id": "88914dc4-aabe-40ec-96f9-d5e424f112e5",
   "metadata": {},
   "outputs": [
    {
     "ename": "TypeError",
     "evalue": "'tuple' object does not support item assignment",
     "output_type": "error",
     "traceback": [
      "\u001b[1;31m---------------------------------------------------------------------------\u001b[0m",
      "\u001b[1;31mTypeError\u001b[0m                                 Traceback (most recent call last)",
      "Cell \u001b[1;32mIn[87], line 1\u001b[0m\n\u001b[1;32m----> 1\u001b[0m tuple1[\u001b[38;5;241m2\u001b[39m] \u001b[38;5;241m=\u001b[39m \u001b[38;5;241m1\u001b[39m\n",
      "\u001b[1;31mTypeError\u001b[0m: 'tuple' object does not support item assignment"
     ]
    }
   ],
   "source": [
    "tuple1[2] = 1 # 튜플은 수정 불가능"
   ]
  },
  {
   "cell_type": "code",
   "execution_count": 61,
   "id": "982dce8e-1c91-46fa-9d28-b2d4914bc737",
   "metadata": {},
   "outputs": [],
   "source": [
    "# 튜플 안에 있는 리스트는 수정이 가능하다!\n",
    "tuple1[-1][1] = 10"
   ]
  },
  {
   "cell_type": "code",
   "execution_count": 63,
   "id": "1311b097-5f1f-4c24-93ba-6e36c8c93064",
   "metadata": {},
   "outputs": [
    {
     "data": {
      "text/plain": [
       "(1, 2, '3', (1, 2, 3), [4, 10, 6])"
      ]
     },
     "execution_count": 63,
     "metadata": {},
     "output_type": "execute_result"
    }
   ],
   "source": [
    "tuple1"
   ]
  },
  {
   "cell_type": "code",
   "execution_count": 85,
   "id": "65264051-ac95-4744-8745-e18b25d0c353",
   "metadata": {},
   "outputs": [],
   "source": [
    "list1 = list(tuple1) # 튜플 안에 요소를 수정하고자 하는 경우, list로 형변환!"
   ]
  },
  {
   "cell_type": "code",
   "execution_count": 73,
   "id": "4c422333-b5cd-475d-8284-586ff084f1ef",
   "metadata": {},
   "outputs": [
    {
     "data": {
      "text/plain": [
       "[1, 2, '3', (1, 2, 3), [4, 10, 6]]"
      ]
     },
     "execution_count": 73,
     "metadata": {},
     "output_type": "execute_result"
    }
   ],
   "source": [
    "list1"
   ]
  },
  {
   "cell_type": "code",
   "execution_count": 75,
   "id": "794f26f4-368b-41e9-8bc4-0839987c6798",
   "metadata": {},
   "outputs": [],
   "source": [
    "list1[2] = 3"
   ]
  },
  {
   "cell_type": "code",
   "execution_count": 77,
   "id": "e6393e2a-c9be-4cbc-ad6e-0a30b465b6fd",
   "metadata": {},
   "outputs": [
    {
     "data": {
      "text/plain": [
       "[1, 2, 3, (1, 2, 3), [4, 10, 6]]"
      ]
     },
     "execution_count": 77,
     "metadata": {},
     "output_type": "execute_result"
    }
   ],
   "source": [
    "list1"
   ]
  },
  {
   "cell_type": "code",
   "execution_count": 91,
   "id": "949d5486-402f-45f4-9424-c8c422cc2440",
   "metadata": {},
   "outputs": [
    {
     "data": {
      "text/plain": [
       "(11, 77, 88, 99, 33, 22)"
      ]
     },
     "execution_count": 91,
     "metadata": {},
     "output_type": "execute_result"
    }
   ],
   "source": [
    "tuple2 = (11, 77, 88, 99, 33, 22)\n",
    "tuple2"
   ]
  },
  {
   "cell_type": "code",
   "execution_count": 95,
   "id": "c713a979-4f24-446b-98fe-10989a9b2068",
   "metadata": {},
   "outputs": [
    {
     "data": {
      "text/plain": [
       "(11, 77, 88, 99, 33, 22)"
      ]
     },
     "execution_count": 95,
     "metadata": {},
     "output_type": "execute_result"
    }
   ],
   "source": [
    "tuple2 # 튜플은 정렬 불가능! -> 수정(치환)이 일어나기 때문!"
   ]
  },
  {
   "cell_type": "code",
   "execution_count": 97,
   "id": "2ad632be-9e12-491f-8cda-f1ac7161cd62",
   "metadata": {},
   "outputs": [
    {
     "data": {
      "text/plain": [
       "(1, 2)"
      ]
     },
     "execution_count": 97,
     "metadata": {},
     "output_type": "execute_result"
    }
   ],
   "source": [
    "# 치환\n",
    "A = 1\n",
    "B = 2\n",
    "\n",
    "A, B"
   ]
  },
  {
   "cell_type": "code",
   "execution_count": 99,
   "id": "25c7fb8a-597a-4522-a5db-2a7c34367fed",
   "metadata": {},
   "outputs": [
    {
     "data": {
      "text/plain": [
       "(2, 1)"
      ]
     },
     "execution_count": 99,
     "metadata": {},
     "output_type": "execute_result"
    }
   ],
   "source": [
    "temp = A\n",
    "A = B\n",
    "B = temp\n",
    "\n",
    "A, B"
   ]
  },
  {
   "cell_type": "code",
   "execution_count": 103,
   "id": "ed47121b-da3e-439b-b88c-f22c690c813e",
   "metadata": {},
   "outputs": [
    {
     "data": {
      "text/plain": [
       "(1, 2)"
      ]
     },
     "execution_count": 103,
     "metadata": {},
     "output_type": "execute_result"
    }
   ],
   "source": [
    "# 파이썬에서의 치환\n",
    "A = 1\n",
    "B = 2\n",
    "\n",
    "A, B"
   ]
  },
  {
   "cell_type": "code",
   "execution_count": 107,
   "id": "5aa86f3c-8ee3-48a3-879a-7b0428fffc61",
   "metadata": {},
   "outputs": [
    {
     "data": {
      "text/plain": [
       "(1, 2)"
      ]
     },
     "execution_count": 107,
     "metadata": {},
     "output_type": "execute_result"
    }
   ],
   "source": [
    "A, B = B, A\n",
    "\n",
    "A, B"
   ]
  },
  {
   "cell_type": "markdown",
   "id": "564d7600-d552-45dc-b341-aa20f366d1d6",
   "metadata": {},
   "source": [
    "### 반복문\n",
    "- 프로그램 내에서 똑같은 명령을 일정 횟수만큼 반복하여 수행하도록 제어하는 명령문\n",
    "```python\n",
    "\n",
    "while 조건식 : # 반복횟수가 명확하지 않을 때!\n",
    "    코드블록\n",
    "    코드블록\n",
    "\n",
    "for 지역변수 in 시퀀스 자료구조 : # 반복횟수가 명확할 때!\n",
    "    코드블록\n",
    "    코드블록\n",
    "\n",
    "```\n",
    "- break : 반복을 종료하고, 아래로 빠져오는 기능\n",
    "- continue : 위(조건식, 다음 요소)로 올라가는 기능"
   ]
  },
  {
   "cell_type": "code",
   "execution_count": 110,
   "id": "a6b05e38-7bd8-45a3-93a3-8574d376c123",
   "metadata": {},
   "outputs": [
    {
     "name": "stdin",
     "output_type": "stream",
     "text": [
      "True, 공백 입력 >>  adsfafjlkajkjjgas\n",
      "True, 공백 입력 >>  \n"
     ]
    }
   ],
   "source": [
    "user_input = True # 초기값 설정\n",
    "\n",
    "while user_input : \n",
    "    user_input = bool(input(\"True, 공백 입력 >> \"))\n",
    "    "
   ]
  },
  {
   "cell_type": "code",
   "execution_count": 112,
   "id": "da6bc8d9-b5d5-4a6b-ba9d-fe37a40f4ec2",
   "metadata": {},
   "outputs": [
    {
     "name": "stdout",
     "output_type": "stream",
     "text": [
      "피자\n",
      "햄버거\n",
      "치킨\n"
     ]
    }
   ],
   "source": [
    "food_list = [\"피자\", \"햄버거\", \"치킨\"]\n",
    "for food in food_list :\n",
    "    print(food)"
   ]
  },
  {
   "cell_type": "code",
   "execution_count": 126,
   "id": "b140155a-e3bc-4895-b218-0f8d0f20c1fe",
   "metadata": {},
   "outputs": [
    {
     "name": "stdout",
     "output_type": "stream",
     "text": [
      "0\n",
      "2\n",
      "4\n"
     ]
    }
   ],
   "source": [
    "# range(시작, 끝값[, 스텝]) : 시작값부터 끝값까지 일련의 순서로 범위를 만들어내는 기능\n",
    "# range([시작값, ] 끝값 [, 스텝])\n",
    "\n",
    "for i in range(0, 5, 2) :\n",
    "    print(i)"
   ]
  },
  {
   "cell_type": "code",
   "execution_count": 140,
   "id": "77988aaf-7f02-46e6-9305-c82720851faa",
   "metadata": {},
   "outputs": [
    {
     "name": "stdout",
     "output_type": "stream",
     "text": [
      "90\n",
      "45\n",
      "70\n",
      "60\n",
      "55\n"
     ]
    }
   ],
   "source": [
    "score_list = [90, 45, 70, 60 ,55]\n",
    "\n",
    "for i in range(len(score_list)): # range(len()) : 인덱스 번호로도 for 문 활용이 가능!\n",
    "    print(score_list[i])"
   ]
  }
 ],
 "metadata": {
  "kernelspec": {
   "display_name": "Python 3 (ipykernel)",
   "language": "python",
   "name": "python3"
  },
  "language_info": {
   "codemirror_mode": {
    "name": "ipython",
    "version": 3
   },
   "file_extension": ".py",
   "mimetype": "text/x-python",
   "name": "python",
   "nbconvert_exporter": "python",
   "pygments_lexer": "ipython3",
   "version": "3.11.7"
  }
 },
 "nbformat": 4,
 "nbformat_minor": 5
}
