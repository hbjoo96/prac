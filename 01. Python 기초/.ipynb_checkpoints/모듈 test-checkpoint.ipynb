{
 "cells": [
  {
   "cell_type": "code",
   "execution_count": 5,
   "id": "80155685-e0a7-4b4e-9c50-86833126b4c4",
   "metadata": {},
   "outputs": [],
   "source": [
    "# 모듈 불러오기!\n",
    "import 모듈"
   ]
  },
  {
   "cell_type": "code",
   "execution_count": 7,
   "id": "4a3d6a59-79ee-42a1-80cf-bb558b563448",
   "metadata": {},
   "outputs": [
    {
     "data": {
      "text/plain": [
       "1"
      ]
     },
     "execution_count": 7,
     "metadata": {},
     "output_type": "execute_result"
    }
   ],
   "source": [
    "# 속성 가져오기!\n",
    "모듈.A"
   ]
  },
  {
   "cell_type": "code",
   "execution_count": 9,
   "id": "31e2b783-c2c0-4c75-b018-bcb00c8c1171",
   "metadata": {},
   "outputs": [
    {
     "data": {
      "text/plain": [
       "2"
      ]
     },
     "execution_count": 9,
     "metadata": {},
     "output_type": "execute_result"
    }
   ],
   "source": [
    "모듈.B"
   ]
  },
  {
   "cell_type": "code",
   "execution_count": 11,
   "id": "20c3658b-08eb-4d2c-a83b-a3180e139647",
   "metadata": {},
   "outputs": [
    {
     "data": {
      "text/plain": [
       "10"
      ]
     },
     "execution_count": 11,
     "metadata": {},
     "output_type": "execute_result"
    }
   ],
   "source": [
    "# 기능(함수) 활용하기!\n",
    "모듈.add(1, 2, 3, 4)"
   ]
  },
  {
   "cell_type": "code",
   "execution_count": null,
   "id": "018959fb-00d7-4440-98f7-8b5d1250283d",
   "metadata": {},
   "outputs": [],
   "source": []
  },
  {
   "cell_type": "code",
   "execution_count": null,
   "id": "62cd5b03-b61e-4a75-bd5e-73328cd4eb3a",
   "metadata": {},
   "outputs": [],
   "source": []
  }
 ],
 "metadata": {
  "kernelspec": {
   "display_name": "Python 3 (ipykernel)",
   "language": "python",
   "name": "python3"
  },
  "language_info": {
   "codemirror_mode": {
    "name": "ipython",
    "version": 3
   },
   "file_extension": ".py",
   "mimetype": "text/x-python",
   "name": "python",
   "nbconvert_exporter": "python",
   "pygments_lexer": "ipython3",
   "version": "3.11.7"
  }
 },
 "nbformat": 4,
 "nbformat_minor": 5
}
