{
 "cells": [
  {
   "cell_type": "code",
   "execution_count": 1,
   "id": "b1c1a82c",
   "metadata": {},
   "outputs": [
    {
     "name": "stdout",
     "output_type": "stream",
     "text": [
      "사용자에 의해서 영상이 종료\n"
     ]
    }
   ],
   "source": [
    "import cv2\n",
    "video_path = \"./videos/star.mp4\"\n",
    "cap = cv2.VideoCapture(video_path)\n",
    "while True :\n",
    "    ch, frame = cap.read()\n",
    "    if not ch : \n",
    "        print('동영상 재생 끝 or 읽기 실패')\n",
    "        break\n",
    "    cv2.imshow('video', frame)\n",
    "    key = cv2.waitKey(33) # time.sleep과 비슷\n",
    "    if key == ord('q') : # 키보드로 입력한 값이 q라면 \n",
    "        print('사용자에 의해서 영상이 종료')\n",
    "        break\n",
    "cap.release()\n",
    "cv2.destroyAllWindows()"
   ]
  },
  {
   "cell_type": "code",
   "execution_count": 1,
   "id": "df08189b",
   "metadata": {},
   "outputs": [
    {
     "name": "stdout",
     "output_type": "stream",
     "text": [
      "[[724, 115, 785, 191], [338, 115, 387, 188], [466, 162, 527, 226]]\n",
      "[0.95350325, 0.69993186, 0.56707]\n"
     ]
    }
   ],
   "source": [
    "import cvlib as cv\n",
    "import cv2\n",
    "img = cv2.imread('images/carthegarden_band.png')\n",
    "faces, conf = cv.detect_face(img)\n",
    "print(faces)\n",
    "print(conf)\n",
    "for i in range(len(faces)) :\n",
    "    top_left = (faces[i][0], faces[i][1])\n",
    "    bottom_right = (faces[i][2], faces[i][3])\n",
    "    cv2.rectangle(img, top_left, bottom_right, (0,0,255),4)\n",
    "cv2.imshow('carthegarden', img)\n",
    "cv2.waitKey(0)\n",
    "cv2.destroyAllWindows()"
   ]
  },
  {
   "cell_type": "code",
   "execution_count": 11,
   "id": "b608503a-54b4-4725-a9cb-73e7abc63d28",
   "metadata": {},
   "outputs": [],
   "source": [
    "# 0, 1 = 좌상단\n",
    "# 2, 3 = 우하단\n",
    "top_left = (faces[0][0], faces[0][1])\n",
    "bottom_right = (faces[0][2], faces[0][3])"
   ]
  },
  {
   "cell_type": "code",
   "execution_count": null,
   "id": "d27c784a",
   "metadata": {},
   "outputs": [],
   "source": [
    "# 이미지에 사각형 그리기\n",
    "cv2.rectangle()"
   ]
  },
  {
   "cell_type": "code",
   "execution_count": 22,
   "id": "7ea14c71",
   "metadata": {},
   "outputs": [
    {
     "name": "stdout",
     "output_type": "stream",
     "text": [
      "사용자에 의해서 영상이 종료\n"
     ]
    }
   ],
   "source": [
    "# 캠화면에 얼굴인식하기\n",
    "import cvlib as cv\n",
    "import cv2\n",
    "video_path = 0\n",
    "cap = cv2.VideoCapture(video_path)\n",
    "while True :\n",
    "    ch, frame = cap.read()\n",
    "    faces, conf = cv.detect_face(frame)\n",
    "    \n",
    "    for i in range(len(faces)) :\n",
    "        top_left = (faces[i][0], faces[i][1])\n",
    "        bottom_right = (faces[i][2], faces[i][3])\n",
    "        cv2.rectangle(frame, top_left, bottom_right, (0,0,255),4)\n",
    "        \n",
    "    if not ch : \n",
    "        print('동영상 재생 끝 or 읽기 실패')\n",
    "        break\n",
    "    cv2.imshow('video', frame)\n",
    "    key = cv2.waitKey(33) # time.sleep과 비슷\n",
    "    if key == ord('q') : # 키보드로 입력한 값이 q라면 \n",
    "        print('사용자에 의해서 영상이 종료')\n",
    "        break\n",
    "        \n",
    "cap.release()\n",
    "cv2.destroyAllWindows()"
   ]
  },
  {
   "cell_type": "code",
   "execution_count": 3,
   "id": "7ea67b61",
   "metadata": {},
   "outputs": [
    {
     "ename": "NameError",
     "evalue": "name 'blur' is not defined",
     "output_type": "error",
     "traceback": [
      "\u001b[1;31m---------------------------------------------------------------------------\u001b[0m",
      "\u001b[1;31mNameError\u001b[0m                                 Traceback (most recent call last)",
      "Cell \u001b[1;32mIn[3], line 35\u001b[0m\n\u001b[0;32m     33\u001b[0m \u001b[38;5;28;01mif\u001b[39;00m key \u001b[38;5;241m==\u001b[39m \u001b[38;5;28mord\u001b[39m(\u001b[38;5;124m'\u001b[39m\u001b[38;5;124me\u001b[39m\u001b[38;5;124m'\u001b[39m) :\n\u001b[0;32m     34\u001b[0m     blur \u001b[38;5;241m=\u001b[39m \u001b[38;5;129;01mnot\u001b[39;00m blur\n\u001b[1;32m---> 35\u001b[0m \u001b[38;5;28;01mif\u001b[39;00m \u001b[43mblur\u001b[49m :\n\u001b[0;32m     36\u001b[0m     kernel \u001b[38;5;241m=\u001b[39m np\u001b[38;5;241m.\u001b[39mones((\u001b[38;5;241m20\u001b[39m, \u001b[38;5;241m20\u001b[39m)) \u001b[38;5;241m/\u001b[39m\u001b[38;5;241m400\u001b[39m\n\u001b[0;32m     37\u001b[0m     frame \u001b[38;5;241m=\u001b[39m cv2\u001b[38;5;241m.\u001b[39mfilter2D(frame, \u001b[38;5;241m-\u001b[39m\u001b[38;5;241m1\u001b[39m, kernel)\n",
      "\u001b[1;31mNameError\u001b[0m: name 'blur' is not defined"
     ]
    }
   ],
   "source": [
    "# 캠화면에 얼굴인식하기\n",
    "import cvlib as cv\n",
    "import cv2\n",
    "video_path = 0\n",
    "cap = cv2.VideoCapture(video_path)\n",
    "cnt = 0\n",
    "while True :\n",
    "    ch, frame = cap.read()\n",
    "    faces, conf = cv.detect_face(frame)\n",
    "    \n",
    "    for i in range(len(faces)) :\n",
    "        top_left = (faces[i][0], faces[i][1])\n",
    "        bottom_right = (faces[i][2], faces[i][3])\n",
    "        cv2.rectangle(frame, top_left, bottom_right, (0,0,255),4)\n",
    "        \n",
    "    if not ch : \n",
    "        print('동영상 재생 끝 or 읽기 실패')\n",
    "        break\n",
    "    cv2.imshow('video', frame)\n",
    "    key = cv2.waitKey(33) # time.sleep과 비슷\n",
    "    if key == ord('q') : # 키보드로 입력한 값이 q라면 \n",
    "        print('사용자에 의해서 영상이 종료')\n",
    "        break\n",
    "    if key == ord('w') :\n",
    "        # 캡쳐 기능 만들기\n",
    "        cnt += 1\n",
    "        print(f'videos/cap{cnt}.png 사진 저장')\n",
    "        cv2.imwrite(\n",
    "            f'videos/cap{cnt}.png', # 파일이 저장될 경로\n",
    "            frame, # 저장될 값\n",
    "            params = [cv2.IMWRITE_PNG_COMPRESSION, 0] # 압축 속성\n",
    "        )\n",
    "    if key == ord('e') :\n",
    "        blur = not blur\n",
    "    if blur :\n",
    "        for i in range(len(faces)) :\n",
    "            sub_frame = frame[faces[i][1]:faces[i][0]:fa]\n",
    "    cv2.imshow('video', frame)\n",
    "        \n",
    "        \n",
    "cap.release()\n",
    "cv2.destroyAllWindows()"
   ]
  },
  {
   "cell_type": "code",
   "execution_count": null,
   "id": "01c81baa",
   "metadata": {},
   "outputs": [],
   "source": []
  },
  {
   "cell_type": "code",
   "execution_count": null,
   "id": "813bfcf7",
   "metadata": {},
   "outputs": [],
   "source": []
  }
 ],
 "metadata": {
  "kernelspec": {
   "display_name": "Python 3 (ipykernel)",
   "language": "python",
   "name": "python3"
  },
  "language_info": {
   "codemirror_mode": {
    "name": "ipython",
    "version": 3
   },
   "file_extension": ".py",
   "mimetype": "text/x-python",
   "name": "python",
   "nbconvert_exporter": "python",
   "pygments_lexer": "ipython3",
   "version": "3.11.0"
  }
 },
 "nbformat": 4,
 "nbformat_minor": 5
}
