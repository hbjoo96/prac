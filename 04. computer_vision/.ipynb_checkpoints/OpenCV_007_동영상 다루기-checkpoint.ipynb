{
 "cells": [
  {
   "cell_type": "code",
   "execution_count": 5,
   "id": "ecbf31b9",
   "metadata": {},
   "outputs": [
    {
     "name": "stdout",
     "output_type": "stream",
     "text": [
      "사용자에 의해서 영상이 종료\n"
     ]
    }
   ],
   "source": [
    "# 동영상 출력하기\n",
    "import cv2\n",
    "\n",
    "# video_path = \"./videos/star.mp4\"\n",
    "video_path = 0\n",
    "# 동영상 파일 불러오기 = 동영상 객체 생성\n",
    "cap = cv2.VideoCapture(video_path)\n",
    "# 비디오는 보통 초당 30장의 사진으로 이루어져 있음. > 0.033초마다 한장의 사진을 본다\n",
    "\n",
    "# 비디오가 가지고 있는 여러 사진을 한장씩 불러와서 띄우기\n",
    "while True :\n",
    "    # 순서대로 사진 한장 가져오기\n",
    "    # ch : 사진을 읽으면 True, 못 읽으면 False를 반환\n",
    "    # frame : 읽어온 사진 한장\n",
    "    ch, frame = cap.read()\n",
    "    \n",
    "    if not ch : # 사진 못읽으면 while문 종료\n",
    "        print('동영상 재생 끝 or 읽기 실패')\n",
    "        break\n",
    "        \n",
    "    # 프레임을 읽었다.\n",
    "    # 'video' = 열릴 창의 이름\n",
    "    # frame = 창속에 담을 이미지\n",
    "    cv2.imshow('video', frame)\n",
    "    # 특정 시간만큼 키보드 입력을 기다리는 코드\n",
    "    # 0이 아닌 수를 적을때 : 해당 숫자의 ms 만큼 대기 후 다음 코드 진행(1000ms = 1초)\n",
    "    # 0 : 키보드 입력하면 다음 코드로 넘어감\n",
    "    key = cv2.waitKey(33) # time.sleep과 비슷\n",
    "    # 실행하면 동영상이 끝날때까지 멈출 수 없다.\n",
    "    if key == ord('q') : # 키보드로 입력한 값이 q라면 \n",
    "        print('사용자에 의해서 영상이 종료')\n",
    "        break\n",
    "    \n",
    "    \n",
    "# 비디오 객체 해제\n",
    "cap.release()\n",
    "# 파이썬으로 인해 윈도우에 열린 모든 창 종료\n",
    "cv2.destroyAllWindows()"
   ]
  },
  {
   "cell_type": "code",
   "execution_count": 7,
   "id": "75639c25",
   "metadata": {},
   "outputs": [
    {
     "name": "stdout",
     "output_type": "stream",
     "text": [
      "사용자에 의해서 영상이 종료\n"
     ]
    }
   ],
   "source": [
    "import cv2\n",
    "# video_path = \"./videos/star.mp4\"\n",
    "video_path = 0\n",
    "cap = cv2.VideoCapture(video_path)\n",
    "while True :\n",
    "    ch, frame = cap.read()\n",
    "    if not ch : \n",
    "        print('동영상 재생 끝 or 읽기 실패')\n",
    "        break\n",
    "    cv2.imshow('video', frame)\n",
    "    key = cv2.waitKey(33) # time.sleep과 비슷\n",
    "    if key == ord('q') : # 키보드로 입력한 값이 q라면 \n",
    "        print('사용자에 의해서 영상이 종료')\n",
    "        break\n",
    "cap.release()\n",
    "cv2.destroyAllWindows()"
   ]
  },
  {
   "cell_type": "code",
   "execution_count": 22,
   "id": "88efde30",
   "metadata": {},
   "outputs": [
    {
     "name": "stdout",
     "output_type": "stream",
     "text": [
      "videos/cap1.png 사진 저장\n",
      "videos/cap2.png 사진 저장\n",
      "videos/cap3.png 사진 저장\n",
      "videos/cap4.png 사진 저장\n",
      "사용자에 의해서 영상이 종료\n"
     ]
    }
   ],
   "source": [
    "# 캡쳐 기능 추가하기\n",
    "import cv2\n",
    "video_path = \"./videos/star.mp4\"\n",
    "cap = cv2.VideoCapture(video_path)\n",
    "cnt = 0\n",
    "while True :\n",
    "    ch, frame = cap.read()\n",
    "    if not ch : \n",
    "        print('동영상 재생 끝 or 읽기 실패')\n",
    "        break\n",
    "    cv2.imshow('video', frame)\n",
    "    key = cv2.waitKey(33) # time.sleep과 비슷\n",
    "    if key == ord('q') : # 키보드로 입력한 값이 q라면 \n",
    "        print('사용자에 의해서 영상이 종료')\n",
    "        break\n",
    "    if key == ord('w') :\n",
    "        # 캡쳐 기능 만들기\n",
    "        cnt += 1\n",
    "        print(f'videos/cap{cnt}.png 사진 저장')\n",
    "        cv2.imwrite(\n",
    "            f'videos/cap{cnt}.png', # 파일이 저장될 경로\n",
    "            frame, # 저장될 값\n",
    "            params = [cv2.IMWRITE_PNG_COMPRESSION, 0] # 압축 속성\n",
    "        )\n",
    "cap.release()\n",
    "cv2.destroyAllWindows()"
   ]
  }
 ],
 "metadata": {
  "kernelspec": {
   "display_name": "Python 3 (ipykernel)",
   "language": "python",
   "name": "python3"
  },
  "language_info": {
   "codemirror_mode": {
    "name": "ipython",
    "version": 3
   },
   "file_extension": ".py",
   "mimetype": "text/x-python",
   "name": "python",
   "nbconvert_exporter": "python",
   "pygments_lexer": "ipython3",
   "version": "3.7.1"
  }
 },
 "nbformat": 4,
 "nbformat_minor": 5
}
